{
 "cells": [
  {
   "cell_type": "code",
   "execution_count": 73,
   "id": "e8a48c99-a639-4d89-8dfb-99eb5b4c46a7",
   "metadata": {},
   "outputs": [],
   "source": [
    "import wrds\n",
    "import numpy as np\n",
    "import pandas as pd\n",
    "import matplotlib.pyplot as plt\n",
    "from scipy.optimize import curve_fit\n",
    "from scipy.optimize import minimize\n",
    "from scipy.optimize import basinhopping"
   ]
  },
  {
   "cell_type": "code",
   "execution_count": 128,
   "id": "a2f79bca-d745-458c-9893-49eadb1fdd44",
   "metadata": {},
   "outputs": [],
   "source": [
    "def price_to_yield_semi_annual(price, coupon, tau):\n",
    "    \"\"\"\n",
    "    Converts bond price to yield for semi-annual coupon bonds.\n",
    "    :param price: Bond price\n",
    "    :param coupon: Annual coupon rate of the bond\n",
    "    :param tau: Time to maturity in years\n",
    "    :return: Yield for semi-annual coupon bond\n",
    "    \"\"\"\n",
    "    if tau <= 0 or price <= 0:\n",
    "        return float('nan')  # Return NaN for non-feasible values\n",
    "    \n",
    "    periods = int(tau * 2)  # Number of six-month periods\n",
    "    coupon_payment = coupon / 2  # Semi-annual coupon payment\n",
    "    \n",
    "    # Initial guess for YTM\n",
    "    ytm = coupon / price\n",
    "    tolerance = 1e-6\n",
    "    max_iterations = 1000\n",
    "    iteration = 0\n",
    "\n",
    "    while iteration < max_iterations:\n",
    "        price_calculated = sum([coupon_payment / (1 + ytm / 2) ** (i + 1) for i in range(periods - 1)]) + (100 + coupon_payment) / (1 + ytm / 2) ** periods\n",
    "        diff = price_calculated - price\n",
    "        \n",
    "        if abs(diff) < tolerance:\n",
    "            break\n",
    "\n",
    "        ytm -= diff / 10  # Adjust the YTM guess\n",
    "        if ytm < 0:\n",
    "            ytm = tolerance  # Prevent negative YTM\n",
    "\n",
    "        iteration += 1\n",
    "\n",
    "    if iteration == max_iterations:\n",
    "        return float('nan')  # Return NaN if no convergence\n",
    "\n",
    "    return ytm * 100  # Convert to percentage\n",
    "\n",
    "# Example usage: \n",
    "# Assuming you have the row data as before\n",
    "# yield_result = price_to_yield_semi_annual(row['midprice'], row['coupon'], row['tau'])\n",
    "# print(yield_result)\n",
    "\n",
    "def subset_and_filter_data(dataframe, start_minute):\n",
    "    \"\"\"\n",
    "    For each cusip, selects the row that has the time closest to the start time, \n",
    "    sorts the result by tau, and drops observations with tau > 10.\n",
    "\n",
    "    :param dataframe: pandas DataFrame containing the data.\n",
    "    :param start_minute: Integer representing the starting minute.\n",
    "    :return: Processed DataFrame.\n",
    "    \"\"\"\n",
    "    end_minute = start_minute + 5\n",
    "\n",
    "    # Filter the dataframe for the specified time range\n",
    "    filtered_df = dataframe[(dataframe['minute'] >= start_minute) & (dataframe['minute'] < end_minute)]\n",
    "\n",
    "    # Group by 'cusip' and select the row with the closest time to start_minute\n",
    "    closest_rows = filtered_df.groupby('cusip').apply(lambda x: x.loc[(x['minute'] - start_minute).abs().idxmin()])\n",
    "\n",
    "    # Sort the resulting DataFrame by 'tau'\n",
    "    sorted_closest_rows = closest_rows.sort_values(by='tau')\n",
    "\n",
    "    # Drop observations where tau > 10\n",
    "    final_df = sorted_closest_rows[(sorted_closest_rows['tau'] >= 1) & (sorted_closest_rows['tau'] <= 10)].reset_index(drop=True)\n",
    "    return_df = final_df[final_df['midprice'] >= 0.6].reset_index(drop=True)\n",
    "    \n",
    "    return return_df\n",
    "\n",
    "\n",
    "def svensson_yield(tau, beta0, beta1, beta2, beta3, lambda1, lambda2):\n",
    "    \"\"\"Calculates the yield for a given maturity tau using the Svensson model.\"\"\"\n",
    "    term1 = (1 - np.exp(-lambda1 * tau)) / (lambda1 * tau)\n",
    "    term2 = term1 - np.exp(-lambda1 * tau)\n",
    "    term3 = ((1 - np.exp(-lambda2 * tau)) / (lambda2 * tau)) - np.exp(-lambda2 * tau)\n",
    "    return beta0 + beta1 * term1 + beta2 * term2 + beta3 * term3\n",
    "\n",
    "def calculate_macaulay_duration(coupon_rate, ytm, time_to_expiration, face_value=1):\n",
    "    \"\"\"\n",
    "    Calculates the Macaulay duration of a bond.\n",
    "\n",
    "    :param coupon_rate: The annual coupon rate of the bond as a decimal\n",
    "    :param ytm: The yield to maturity of the bond as a decimal\n",
    "    :param time_to_expiration: The time to expiration of the bond in years\n",
    "    :param face_value: The face value of the bond (default is 100)\n",
    "    :return: The Macaulay duration of the bond\n",
    "    \"\"\"\n",
    "    # Calculate the periodic coupon payment\n",
    "    coupon_payment = coupon_rate * face_value\n",
    "    \n",
    "    # Calculate the discount rate\n",
    "    discount_rate = 1 + ytm\n",
    "    \n",
    "    # Calculate the present value of each cash flow\n",
    "    cash_flows = np.array([coupon_payment if period < time_to_expiration else coupon_payment + face_value\n",
    "                           for period in range(1, int(time_to_expiration) + 1)])\n",
    "    \n",
    "    # Calculate the time-weighted present value of each cash flow\n",
    "    time_weighted_pv_cash_flows = np.array([cash_flow / discount_rate**period * period\n",
    "                                            for period, cash_flow in enumerate(cash_flows, start=1)])\n",
    "    \n",
    "    # Calculate the total present value of the bond\n",
    "    total_pv = np.sum(cash_flows / discount_rate**np.arange(1, int(time_to_expiration) + 1))\n",
    "    \n",
    "    # Calculate the Macaulay duration\n",
    "    duration = np.sum(time_weighted_pv_cash_flows) / total_pv\n",
    "    \n",
    "    return duration\n",
    "\n",
    "def theoretical_bond_price(coupon, face_value, maturity, frequency, beta_params):\n",
    "    \"\"\"Calculates the theoretical price of a bond using the Svensson model.\"\"\"\n",
    "    num_payments = int(np.ceil(maturity * frequency))  # Number of coupon payments, rounded up\n",
    "    cash_flows = np.array([coupon * face_value / frequency] * (num_payments - 1) + [coupon * face_value / frequency + face_value])\n",
    "    \n",
    "    # Time of each cash flow\n",
    "    times = np.arange(1 / frequency, maturity + 1 / frequency, 1 / frequency)\n",
    "    \n",
    "    # Calculate discount factors for each cash flow\n",
    "    discount_factors = np.array([np.exp(-svensson_yield(time, *beta_params) * time) for time in times])\n",
    "    \n",
    "    # Calculate present value of each cash flow\n",
    "    pv_cash_flows = cash_flows * discount_factors\n",
    "    \n",
    "    # Sum the present values to get the bond price\n",
    "    bond_price = np.sum(pv_cash_flows)\n",
    "    \n",
    "    return bond_price\n",
    "\n",
    "\n",
    "def objective_function(beta_params, bond_data):\n",
    "    \"\"\"Objective function to minimize the difference between market and model prices.\"\"\"\n",
    "    residuals = 0\n",
    "    for index, row in bond_data.iterrows():\n",
    "        market_price = row['midprice']\n",
    "        duration = row['Duration']\n",
    "        coupon = row['coupon']\n",
    "        face_value = 1  # assuming a face value of 100\n",
    "        maturity = row['tau']\n",
    "        frequency = 2  # assuming semi-annual coupons\n",
    "        model_price = theoretical_bond_price(coupon, face_value, maturity, frequency, beta_params)\n",
    "        residuals += (market_price - model_price)**2 / duration\n",
    "    return residuals\n",
    "\n",
    "\n",
    "def plot_prices_vs_maturity(bond_data):\n",
    "    # Plot both observed and model prices against time to maturity\n",
    "    plt.scatter(bond_data['tau'], bond_data['ytm'], color='blue', label='Observed Yield')   \n",
    "    plt.xlabel('Time to Maturity (Years)')\n",
    "    plt.ylabel('Price')\n",
    "    plt.title('Yields vs. Time to Maturity')\n",
    "    plt.legend()\n",
    "    plt.grid(True)\n",
    "    plt.show()\n"
   ]
  },
  {
   "cell_type": "code",
   "execution_count": 99,
   "id": "96727a89-5314-4852-85f2-536a8c74eb13",
   "metadata": {},
   "outputs": [
    {
     "name": "stdout",
     "output_type": "stream",
     "text": [
      "Loading library list...\n",
      "Done\n"
     ]
    }
   ],
   "source": [
    "wrds_username = 'pshultz'\n",
    "db = wrds.Connection(wrds_username=wrds_username)"
   ]
  },
  {
   "cell_type": "code",
   "execution_count": 100,
   "id": "a074ffa1-c7b1-4330-a378-53c9b8780cba",
   "metadata": {},
   "outputs": [
    {
     "name": "stdout",
     "output_type": "stream",
     "text": [
      "['govpx', 'govpx_common', 'govpx_ticks1991', 'govpx_ticks1992', 'govpx_ticks1993', 'govpx_ticks1994', 'govpx_ticks1995', 'govpx_ticks1996', 'govpx_ticks1997', 'govpx_ticks1998', 'govpx_ticks1999', 'govpx_ticks2000', 'govpx_ticks2001', 'govpx_ticks2002', 'govpx_ticks2003', 'govpx_ticks2004', 'govpx_ticks2005', 'govpx_ticks2006', 'govpx_ticks2007', 'govpx_ticks2008', 'govpx_ticks2009', 'govpx_ticks2010', 'govpx_ticks2011', 'govpx_ticks2012', 'govpx_ticks2013', 'govpx_ticks2014', 'govpx_ticks2015', 'govpx_ticks2016', 'govpx_ticks2017', 'govpx_ticks2018', 'govpx_ticks2019', 'govpx_ticks2020', 'govpx_ticks2021', 'govpx_ticks2022', 'govpxsamp_all', 'govpxsmp']\n"
     ]
    }
   ],
   "source": [
    "# List all databases\n",
    "all_databases = db.list_libraries()\n",
    "\n",
    "# Filter databases starting with 'govpx'\n",
    "govpx_databases = [db for db in all_databases if db.startswith('govpx')]\n",
    "\n",
    "print(govpx_databases)"
   ]
  },
  {
   "cell_type": "code",
   "execution_count": 101,
   "id": "cef37cd6-65ed-4cb6-bab5-d31f742715ea",
   "metadata": {},
   "outputs": [
    {
     "data": {
      "text/plain": [
       "['ticks22']"
      ]
     },
     "execution_count": 101,
     "metadata": {},
     "output_type": "execute_result"
    }
   ],
   "source": [
    "database_name = 'govpx_ticks2022'\n",
    "tables = db.list_tables(library=database_name)\n",
    "tables"
   ]
  },
  {
   "cell_type": "code",
   "execution_count": 102,
   "id": "2addfae5-5429-457f-a577-70a91809f1cc",
   "metadata": {},
   "outputs": [
    {
     "name": "stdout",
     "output_type": "stream",
     "text": [
      "       cusip  coupon     matdate   type  indbid  indask  indbyld  indayld  \\\n",
      "0  912796DY2     0.0  2015-04-30  152.0   0.040   0.030    0.041    0.030   \n",
      "1  912796DY2     0.0  2015-04-30    NaN   0.045   0.035    0.046    0.035   \n",
      "2  912796DY2     0.0  2015-04-30    NaN     NaN     NaN      NaN      NaN   \n",
      "3  912796DY2     0.0  2015-04-30    NaN   0.045   0.010    0.046    0.010   \n",
      "4  912796DY2     0.0  2015-04-30    NaN     NaN     NaN      NaN      NaN   \n",
      "\n",
      "         date       time  \n",
      "0  2015-04-22   1922.623  \n",
      "1  2015-04-22  25639.653  \n",
      "2  2015-04-22  25650.280  \n",
      "3  2015-04-22  25826.923  \n",
      "4  2015-04-22  26334.340  \n",
      "Number of rows in the DataFrame: 344822\n"
     ]
    }
   ],
   "source": [
    "\n",
    "\n",
    "# Querying the GovPX dataset\n",
    "# Modify the SQL query according to your specific requirements\n",
    "\n",
    "govpx_data = db.raw_sql(\"\"\"\n",
    "SELECT cusip, coupon, matdate, type, indbid, indask, indbyld, indayld, date, time\n",
    "FROM govpx_ticks2015.ticks15\n",
    "WHERE date = '2015-04-22'\n",
    "\"\"\")\n",
    "\n",
    "# For example, to see the first few rows of the dataset:\n",
    "print(govpx_data.head())\n",
    "print(\"Number of rows in the DataFrame:\", govpx_data.shape[0])"
   ]
  },
  {
   "cell_type": "code",
   "execution_count": 103,
   "id": "81e6242f-9068-4617-9e34-22ce5612f869",
   "metadata": {},
   "outputs": [],
   "source": [
    "# Disconnect from WRDS\n",
    "db.close()"
   ]
  },
  {
   "cell_type": "code",
   "execution_count": 117,
   "id": "870ace32-99da-4fc8-b9ac-a175c6dc775a",
   "metadata": {},
   "outputs": [
    {
     "name": "stdout",
     "output_type": "stream",
     "text": [
      "Number of rows in the cleaned DataFrame: 342384\n"
     ]
    }
   ],
   "source": [
    "# clean daily data\n",
    "# List of columns to check for NaN values\n",
    "columns_to_check = ['indbid', 'indbyld', 'indask', 'indayld']\n",
    "\n",
    "# Drop rows where all specified columns are NaN\n",
    "govpx_data_cleaned = govpx_data.dropna(subset=columns_to_check, how='all')\n",
    "print(\"Number of rows in the cleaned DataFrame:\", govpx_data_cleaned.shape[0])"
   ]
  },
  {
   "cell_type": "code",
   "execution_count": 118,
   "id": "87583c25-73cf-4079-97ee-1c6da86d1e6e",
   "metadata": {},
   "outputs": [
    {
     "name": "stdout",
     "output_type": "stream",
     "text": [
      "Number of rows in the cleaned DataFrame: 342169\n"
     ]
    }
   ],
   "source": [
    "# drop on the run securities\n",
    "govpx_data_filtered = govpx_data_cleaned[(govpx_data_cleaned['type'] != 152)&(govpx_data_cleaned['type'] != 157)&(govpx_data_cleaned['type'] != 161)&(govpx_data_cleaned['type'] != 155)&(govpx_data_cleaned['type'] != 154)]\n",
    "print(\"Number of rows in the cleaned DataFrame:\", govpx_data_filtered.shape[0])"
   ]
  },
  {
   "cell_type": "code",
   "execution_count": 119,
   "id": "fc45af84-a2f1-4b73-8940-4277dc47552c",
   "metadata": {},
   "outputs": [
    {
     "name": "stdout",
     "output_type": "stream",
     "text": [
      "Number of rows in the cleaned DataFrame: 342169\n"
     ]
    }
   ],
   "source": [
    "# Create a copy of the DataFrame slice to avoid SettingWithCopyWarning\n",
    "govpx_data_filtered = govpx_data_filtered.copy()\n",
    "\n",
    "# Now, you can safely make modifications\n",
    "govpx_data_filtered.loc[:, 'midprice'] = (govpx_data_filtered.loc[:, 'indbid']/100 + govpx_data_filtered.loc[:, 'indask']/100) / 2\n",
    "govpx_data_filtered.loc[:, 'tau'] = (pd.to_datetime(govpx_data_filtered.loc[:, 'matdate']) - pd.to_datetime(govpx_data_filtered.loc[:, 'date'])).dt.days / 365\n",
    "govpx_data_filtered.loc[:, 'ytm'] = (govpx_data_filtered.loc[:, 'indbyld']/100 + govpx_data_filtered.loc[:, 'indayld']/100) / 2\n",
    "govpx_data_filtered.loc[:, 'minute'] = govpx_data_filtered.loc[:, 'time'] / 60\n",
    "govpx_data_filtered.loc[:, 'coupon'] = govpx_data_filtered.loc[:, 'coupon'] / 60\n",
    "\n",
    "print(\"Number of rows in the cleaned DataFrame:\", govpx_data_filtered.shape[0])\n"
   ]
  },
  {
   "cell_type": "code",
   "execution_count": 129,
   "id": "79983762-30ad-4253-8a38-1d203ef57d7f",
   "metadata": {},
   "outputs": [
    {
     "name": "stdout",
     "output_type": "stream",
     "text": [
      "Number of rows in processed data: 184\n"
     ]
    }
   ],
   "source": [
    "processed_data = subset_and_filter_data(govpx_data_filtered, 750)\n",
    "print(\"Number of rows in processed data:\", processed_data.shape[0])"
   ]
  },
  {
   "cell_type": "code",
   "execution_count": 130,
   "id": "444d8621-36fe-4c42-9334-e7a3a6a1dd6d",
   "metadata": {},
   "outputs": [
    {
     "name": "stdout",
     "output_type": "stream",
     "text": [
      "Price for the bond in row 39 is: 1.0278515625\n",
      "Coupon for the bond in row 39 is: 0.03125\n",
      "Time to expiration for the bond in row 39 is: 2.361643835616438\n",
      "The Macaulay Duration for the bond in row 39 is: 1.4983057604145904\n"
     ]
    }
   ],
   "source": [
    "# Example usage for a specific row\n",
    "row_index = 39  # replace with the index of the row you're interested in\n",
    "row = processed_data.iloc[row_index]\n",
    "duration = calculate_macaulay_duration(row['coupon'], row['ytm'], row['tau'])\n",
    "print(f\"Price for the bond in row {row_index} is: {row['midprice']}\")\n",
    "print(f\"Coupon for the bond in row {row_index} is: {row['coupon']}\")\n",
    "print(f\"Time to expiration for the bond in row {row_index} is: {row['tau']}\")\n",
    "print(f\"The Macaulay Duration for the bond in row {row_index} is: {duration}\")\n"
   ]
  },
  {
   "cell_type": "code",
   "execution_count": 131,
   "id": "d4e97b9b-c28b-4ac1-ad3f-7408d8c46c8f",
   "metadata": {},
   "outputs": [],
   "source": [
    "processed_data['Duration'] = processed_data.apply(lambda row: calculate_macaulay_duration(\n",
    "    row['coupon'], row['ytm'], row['tau']), axis=1)"
   ]
  },
  {
   "cell_type": "code",
   "execution_count": 132,
   "id": "5ab1c07a-7bfc-474a-aa3b-b9a5c84fde8a",
   "metadata": {},
   "outputs": [
    {
     "name": "stdout",
     "output_type": "stream",
     "text": [
      "[ 1.63917139 -1.60054409 -1.08987856 -7.35278615  0.2326511   0.02095968]\n"
     ]
    },
    {
     "data": {
      "text/plain": [
       "0.4537990560598869"
      ]
     },
     "execution_count": 132,
     "metadata": {},
     "output_type": "execute_result"
    }
   ],
   "source": [
    "# Assuming bond_data is your DataFrame with columns: 'market_price', 'coupon', 'years_to_maturity', 'Duration'\n",
    "initial_params = [ 1.55137946, -1.39608918, -1.60042708, -7.35861824,  0.38872305,  0.02629366]# initial guess for beta0, beta1, beta2, beta3, lambda1, lambda2\n",
    "result = minimize(\n",
    "    objective_function, initial_params, args=(processed_data,),\n",
    "    method='L-BFGS-B', options={'maxiter': 15000, 'ftol': 1e-20}\n",
    ")\n",
    "print(result.x) # Optimized parameters\n",
    "result.fun"
   ]
  },
  {
   "cell_type": "code",
   "execution_count": 133,
   "id": "9bedec8d-e8dd-42a1-848a-688b0745013f",
   "metadata": {},
   "outputs": [
    {
     "data": {
      "image/png": "[encoded data removed]",
      "text/plain": [
       "<Figure size 640x480 with 1 Axes>"
      ]
     },
     "metadata": {},
     "output_type": "display_data"
    }
   ],
   "source": [
    "processed_data['model_price'] = processed_data.apply(\n",
    "    lambda row: theoretical_bond_price(\n",
    "        row['coupon'], 1, row['tau'], 2, result.x\n",
    "    ), axis=1\n",
    ")\n",
    "plt.scatter(processed_data['tau'], processed_data['midprice'], color='blue', label='Observed Price')\n",
    "plt.scatter(processed_data['tau'], processed_data['model_price'], color='red', label='Model Price')   \n",
    "plt.xlabel('Time to Maturity (Years)')\n",
    "plt.ylabel('Price')\n",
    "plt.title('Prices vs. Time to Maturity')\n",
    "plt.legend()\n",
    "plt.grid(True)\n",
    "plt.show()"
   ]
  },
  {
   "cell_type": "code",
   "execution_count": 134,
   "id": "838327f9-3edb-4521-ae52-43e77d7cdd72",
   "metadata": {},
   "outputs": [],
   "source": [
    "# Define a minimizer for local optimization steps within Basin-Hopping ( will use for first obs each day )\n",
    "#minimizer_kwargs = {\"method\": \"L-BFGS-B\", \"args\": (bond_data,)}\n",
    "\n",
    "# Perform the Basin-Hopping global optimization\n",
    "#result = basinhopping(objective_function, result.x, minimizer_kwargs=minimizer_kwargs, niter=200)\n",
    "\n",
    "#print(result.x)  # Optimized parameters"
   ]
  },
  {
   "cell_type": "code",
   "execution_count": 135,
   "id": "98962627-21b4-4f44-908b-363cf62e3669",
   "metadata": {},
   "outputs": [
    {
     "data": {
      "image/png": "[encoded data removed]",
      "text/plain": [
       "<Figure size 1000x600 with 1 Axes>"
      ]
     },
     "metadata": {},
     "output_type": "display_data"
    }
   ],
   "source": [
    "# Assuming 'result.x' contains the optimized parameters [beta0, beta1, beta2, beta3, lambda1, lambda2]\n",
    "# Replace this with your optimized parameters\n",
    "optimized_params = result.x\n",
    "\n",
    "# Assuming 'processed_data' is your DataFrame and it has a column named 'tau'\n",
    "# Find the minimum value in the 'tau' column\n",
    "min_tau = processed_data['tau'].min()\n",
    "\n",
    "# Maturities for 1 to 10 years or starting from min_tau if it is larger\n",
    "maturities = np.arange(max(1, min_tau), 11)\n",
    "yields = []\n",
    "\n",
    "# Calculate yields for each maturity using the optimized parameters\n",
    "for tau in maturities:\n",
    "    if tau < min_tau:\n",
    "        yields.append(np.nan)\n",
    "    else:\n",
    "        yields.append(svensson_yield(tau, *optimized_params))\n",
    "\n",
    "# Plotting the term structure\n",
    "plt.figure(figsize=(10, 6))\n",
    "plt.plot(maturities, yields, marker='o')\n",
    "plt.title(\"Term Structure of Interest Rates\")\n",
    "plt.xlabel(\"Maturity (Years)\")\n",
    "plt.ylabel(\"Yield\")\n",
    "plt.grid(True)\n",
    "plt.show()\n",
    "\n"
   ]
  },
  {
   "cell_type": "code",
   "execution_count": null,
   "id": "bca1cada-091f-4092-b851-9d8cf55bdce6",
   "metadata": {},
   "outputs": [],
   "source": []
  }
 ],
 "metadata": {
  "kernelspec": {
   "display_name": "Python 3 (ipykernel)",
   "language": "python",
   "name": "python3"
  },
  "language_info": {
   "codemirror_mode": {
    "name": "ipython",
    "version": 3
   },
   "file_extension": ".py",
   "mimetype": "text/x-python",
   "name": "python",
   "nbconvert_exporter": "python",
   "pygments_lexer": "ipython3",
   "version": "3.11.0"
  }
 },
 "nbformat": 4,
 "nbformat_minor": 5
}
